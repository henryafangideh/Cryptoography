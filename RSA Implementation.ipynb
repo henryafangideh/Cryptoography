{
 "cells": [
  {
   "cell_type": "code",
   "execution_count": 3,
   "id": "b3bdd7a7-646d-44b8-881e-e935e3d7ea9c",
   "metadata": {},
   "outputs": [],
   "source": [
    "import random\n",
    "import math"
   ]
  },
  {
   "cell_type": "code",
   "execution_count": 2,
   "id": "fafcde6c-def4-4dde-b5c2-0069ffabe94a",
   "metadata": {},
   "outputs": [],
   "source": [
    "def is_prime(number):\n",
    "    if number < 2:\n",
    "        return False\n",
    "    for i in range(2, number// 2 + 1):\n",
    "        if number % i == 0:\n",
    "            return False\n",
    "    return True"
   ]
  },
  {
   "cell_type": "code",
   "execution_count": 7,
   "id": "219613ba-aaeb-483c-b99c-d05b4635f2b3",
   "metadata": {},
   "outputs": [],
   "source": [
    "def generate_prime(min_value, max_value):\n",
    "    prime = random.randint(min_value, max_value)\n",
    "    while not is_prime(prime):\n",
    "        prime = random.randint(min_value, max_value)\n",
    "    return prime"
   ]
  },
  {
   "cell_type": "code",
   "execution_count": 5,
   "id": "87727747-0b93-4592-9fb3-6926fdf7a33e",
   "metadata": {},
   "outputs": [],
   "source": [
    "def mod_inverse(e, phi):\n",
    "    for d in range(3, phi):\n",
    "        if (d*e) % phi ==1:\n",
    "            return d\n",
    "    raise ValueError(\"mod_inverse does not exist\")\n",
    "    "
   ]
  },
  {
   "cell_type": "code",
   "execution_count": 9,
   "id": "29d72ff4-371c-4056-99c4-cd5be6f00afe",
   "metadata": {},
   "outputs": [],
   "source": [
    "p,q = generate_prime(1000,5000), generate_prime(1000,5000)\n",
    "while p == q:\n",
    "    q = generate_prime(1000,5000)\n",
    "\n",
    "n = p*q\n",
    "\n",
    "phi_n = (p-1)*(q-1)\n",
    "\n",
    "e = random.randint(3, phi_n -1)\n",
    "while math.gcd(e, phi_n) != 1:\n",
    "    e = random.randint(3, phi_n -1)"
   ]
  },
  {
   "cell_type": "code",
   "execution_count": 10,
   "id": "fc97dad7-6d51-4321-9708-b4dcb766e849",
   "metadata": {},
   "outputs": [],
   "source": [
    "d = mod_inverse(e, phi_n)"
   ]
  },
  {
   "cell_type": "code",
   "execution_count": 13,
   "id": "166e0a44-26aa-4c9c-952b-cfe1533d1e9c",
   "metadata": {},
   "outputs": [
    {
     "name": "stdout",
     "output_type": "stream",
     "text": [
      "Cipher text [1058836, 635862, 287454, 287454, 2769428, 3202384, 2589924, 2769428, 3000253, 287454, 2236812]\n",
      "Message encoded [72, 101, 108, 108, 111, 32, 87, 111, 114, 108, 100]\n",
      "Public key 640993\n",
      "Private key 3891157\n",
      "n 4699649\n",
      "Phi of n 4695300\n",
      "p 1999\n",
      "q 2351\n"
     ]
    }
   ],
   "source": [
    "message = \"Hello World\"\n",
    "message_encoded = [ord(c) for c in message]\n",
    "ciphertext = [pow(c, e, n) for c in message_encoded]\n",
    "\n",
    "print('Cipher text', ciphertext)\n",
    "print('Message encoded', message_encoded)\n",
    "print('Public key', e)\n",
    "print('Private key', d)\n",
    "print('n', n)\n",
    "print('Phi of n', phi_n)\n",
    "print('p', p)\n",
    "print('q', q)\n"
   ]
  },
  {
   "cell_type": "code",
   "execution_count": 16,
   "id": "c7f921b0-312c-46f0-aa6d-54ee9899c5c0",
   "metadata": {},
   "outputs": [
    {
     "name": "stdout",
     "output_type": "stream",
     "text": [
      "Hello World\n"
     ]
    }
   ],
   "source": [
    "message_decrypt = [pow(c, d, n) for c in ciphertext]\n",
    "message_back = ''.join(chr(c) for c in message_decrypt)\n",
    "\n",
    "print(message_back)"
   ]
  },
  {
   "cell_type": "code",
   "execution_count": null,
   "id": "d9457f4c-bd2a-4b76-92c8-a76d6cde42b3",
   "metadata": {},
   "outputs": [],
   "source": []
  }
 ],
 "metadata": {
  "kernelspec": {
   "display_name": "Python 3 (ipykernel)",
   "language": "python",
   "name": "python3"
  },
  "language_info": {
   "codemirror_mode": {
    "name": "ipython",
    "version": 3
   },
   "file_extension": ".py",
   "mimetype": "text/x-python",
   "name": "python",
   "nbconvert_exporter": "python",
   "pygments_lexer": "ipython3",
   "version": "3.11.7"
  }
 },
 "nbformat": 4,
 "nbformat_minor": 5
}
