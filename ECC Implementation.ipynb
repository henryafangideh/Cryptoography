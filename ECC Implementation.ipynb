{
 "cells": [
  {
   "cell_type": "code",
   "execution_count": 35,
   "id": "67b2aaa2-aba7-4b46-9c5f-f3d4b70e6b12",
   "metadata": {},
   "outputs": [],
   "source": [
    "def add_points(P, Q, p):\n",
    "    x1, y1 = P\n",
    "    x2, y2 = Q\n",
    "     \n",
    "    if x1 == x2 and y1 == y2:\n",
    "        beta = (3*x1*x2 + a) * pow(2*y1, -1, p)\n",
    "    else:\n",
    "        beta = (y2 - y1) * pow(x2 - x1, -1, p)\n",
    "     \n",
    "    x3 = (beta*beta - x1 - x2) % p\n",
    "    y3 = (beta * (x1 - x3) - y1) % p\n",
    "     \n",
    "    is_on_curve((x3, y3), p)\n",
    "         \n",
    "    return x3, y3\n",
    " \n",
    "def is_on_curve(P, p):\n",
    "    x, y = P\n",
    "    assert (y*y) % p == ( pow(x, 3, p) + a*x + b ) % p\n",
    "     \n",
    "def apply_double_and_add_method(G, k, p):\n",
    "    target_point = G\n",
    "     \n",
    "    k_binary = bin(k)[2:] #0b1111111001\n",
    "     \n",
    "    for i in range(1, len(k_binary)):\n",
    "        current_bit = k_binary[i: i+1]\n",
    "         \n",
    "        # doubling - always\n",
    "        target_point = add_points(target_point, target_point, p)\n",
    "         \n",
    "        if current_bit == '1':\n",
    "            target_point = add_points(target_point, G, p)\n",
    "     \n",
    "    is_on_curve(target_point, p)\n",
    "     \n",
    "    return target_point"
   ]
  },
  {
   "cell_type": "code",
   "execution_count": 36,
   "id": "7df19eb5-9919-4aea-b036-17a0d927327f",
   "metadata": {},
   "outputs": [],
   "source": [
    "# Secp256k1\n",
    "a = 0; b = 7\n",
    "\n",
    "# base point\n",
    "G = (55066263022277343669578718895168534326250603453777594175500187360389116729240, \n",
    "     32670510020758816978083085130507043184471273380659243275938904335757337482424)  \n",
    "\n",
    "# modulo\n",
    "p = pow(2, 256) - pow(2, 32) - pow(2, 9) - pow(2, 8) - pow(2, 7) - pow(2, 6) - pow(2, 4) - pow(2, 0)\n",
    "# order\n",
    "n = 115792089237316195423570985008687907852837564279074904382605163141518161494337\n"
   ]
  },
  {
   "cell_type": "code",
   "execution_count": 37,
   "id": "9d0f2cf8-7957-4e6a-a7e4-84fbf54150d0",
   "metadata": {},
   "outputs": [],
   "source": [
    "is_on_curve(G,p)"
   ]
  },
  {
   "cell_type": "code",
   "execution_count": 38,
   "id": "44d63b75-3ecf-48b3-8e23-5b887aeee8f4",
   "metadata": {},
   "outputs": [
    {
     "data": {
      "text/plain": [
       "(34773495056115281091786765947597603724784643419904767525769502836017890139287,\n",
       " 8470533044743364938367028725608288731153024648869546164814808839694950063162)"
      ]
     },
     "execution_count": 38,
     "metadata": {},
     "output_type": "execute_result"
    }
   ],
   "source": [
    "apply_double_and_add_method(G=G, k=20, p=p)"
   ]
  },
  {
   "cell_type": "code",
   "execution_count": null,
   "id": "5adc581d-1e5f-4b40-9f18-6c49c5103c7a",
   "metadata": {},
   "outputs": [],
   "source": [
    "# Q = public key, k = private key, G = public base point\n",
    "#Q = k*G"
   ]
  }
 ],
 "metadata": {
  "kernelspec": {
   "display_name": "Python 3 (ipykernel)",
   "language": "python",
   "name": "python3"
  },
  "language_info": {
   "codemirror_mode": {
    "name": "ipython",
    "version": 3
   },
   "file_extension": ".py",
   "mimetype": "text/x-python",
   "name": "python",
   "nbconvert_exporter": "python",
   "pygments_lexer": "ipython3",
   "version": "3.11.7"
  }
 },
 "nbformat": 4,
 "nbformat_minor": 5
}
